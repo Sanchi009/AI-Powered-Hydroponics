{
 "cells": [
  {
   "cell_type": "code",
   "execution_count": 1,
   "id": "cf1406f8",
   "metadata": {},
   "outputs": [],
   "source": [
    "import cv2\n",
    "import numpy as np\n",
    "\n",
    "# Load image and convert to HSV color space\n",
    "img = cv2.imread('basil4l.jpeg')\n",
    "hsv = cv2.cvtColor(img, cv2.COLOR_BGR2HSV)\n",
    "\n",
    "# Define color ranges for leaves and background\n",
    "leaf_lower = np.array([35, 50, 50])\n",
    "leaf_upper = np.array([80, 255, 255])\n",
    "bg_lower = np.array([0, 0, 0])\n",
    "bg_upper = np.array([179, 50, 80])\n",
    "\n",
    "# Threshold the image to get binary masks for leaves and background\n",
    "leaf_mask = cv2.inRange(hsv, leaf_lower, leaf_upper)\n",
    "bg_mask = cv2.inRange(hsv, bg_lower, bg_upper)\n",
    "\n",
    "# Apply morphological opening to remove noise and small objects from the masks\n",
    "kernel = cv2.getStructuringElement(cv2.MORPH_ELLIPSE, (5, 5))\n",
    "leaf_mask = cv2.morphologyEx(leaf_mask, cv2.MORPH_OPEN, kernel)\n",
    "bg_mask = cv2.morphologyEx(bg_mask, cv2.MORPH_OPEN, kernel)\n",
    "\n",
    "# Find contours in the binary masks\n",
    "leaf_contours, _ = cv2.findContours(leaf_mask, cv2.RETR_EXTERNAL, cv2.CHAIN_APPROX_SIMPLE)\n",
    "bg_contours, _ = cv2.findContours(bg_mask, cv2.RETR_EXTERNAL, cv2.CHAIN_APPROX_SIMPLE)\n",
    "\n",
    "# Filter out any small contours and get the largest contour for leaves and background\n",
    "leaf_contours = [cnt for cnt in leaf_contours if cv2.contourArea(cnt) > 100]\n",
    "bg_contours = [cnt for cnt in bg_contours if cv2.contourArea(cnt) > 100]\n",
    "leaf_contour = max(leaf_contours, key=cv2.contourArea)\n",
    "bg_contour = max(bg_contours, key=cv2.contourArea)\n",
    "\n",
    "# Get the bounding rectangle for the leaf contour\n",
    "x, y, w, h = cv2.boundingRect(leaf_contour)\n",
    "\n",
    "# Calculate the height of the plant by finding the vertical distance from the base of the stem to the top of the plant\n",
    "bg_top = min(bg_contour[:, :, 1].flatten())\n",
    "leaf_top = max(leaf_contour[:, :, 1].flatten())\n",
    "plant_height = leaf_top - bg_top\n",
    "\n",
    "# Draw a rectangle around the leaf contour and display the image with the detected leaf count and plant height\n",
    "cv2.rectangle(img, (x, y), (x+w, y+h), (0, 255, 0), 2)\n",
    "cv2.putText(img, f\"Leaf count: {len(leaf_contours)}\", (10, 30), cv2.FONT_HERSHEY_SIMPLEX, 1, (0, 255, 0), 2)\n",
    "#cv2.putText(img, f\"Plant height: {plant_height} pixels\", (10, 70), cv2.FONT_HERSHEY_SIMPLEX, 1, (0, 255, 0), 2)\n",
    "cv2.imshow('Lemon Basil Plant', img)\n",
    "cv2.waitKey(0)\n",
    "cv2.destroyAllWindows()\n"
   ]
  },
  {
   "cell_type": "code",
   "execution_count": null,
   "id": "627df70f",
   "metadata": {},
   "outputs": [],
   "source": []
  }
 ],
 "metadata": {
  "kernelspec": {
   "display_name": "Python 3 (ipykernel)",
   "language": "python",
   "name": "python3"
  },
  "language_info": {
   "codemirror_mode": {
    "name": "ipython",
    "version": 3
   },
   "file_extension": ".py",
   "mimetype": "text/x-python",
   "name": "python",
   "nbconvert_exporter": "python",
   "pygments_lexer": "ipython3",
   "version": "3.9.12"
  }
 },
 "nbformat": 4,
 "nbformat_minor": 5
}
